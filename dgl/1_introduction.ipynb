{
  "nbformat": 4,
  "nbformat_minor": 0,
  "metadata": {
    "kernelspec": {
      "display_name": "Python 3",
      "language": "python",
      "name": "python3"
    },
    "language_info": {
      "codemirror_mode": {
        "name": "ipython",
        "version": 3
      },
      "file_extension": ".py",
      "mimetype": "text/x-python",
      "name": "python",
      "nbconvert_exporter": "python",
      "pygments_lexer": "ipython3",
      "version": "3.7.3"
    },
    "colab": {
      "name": "1_introduction.ipynb",
      "provenance": [],
      "include_colab_link": true
    },
    "accelerator": "GPU"
  },
  "cells": [
    {
      "cell_type": "markdown",
      "metadata": {
        "id": "view-in-github",
        "colab_type": "text"
      },
      "source": [
        "<a href=\"https://colab.research.google.com/github/cschlick/notebooks/blob/main/dgl/1_introduction.ipynb\" target=\"_parent\"><img src=\"https://colab.research.google.com/assets/colab-badge.svg\" alt=\"Open In Colab\"/></a>"
      ]
    },
    {
      "cell_type": "code",
      "metadata": {
        "id": "Lbsr21wErkc2"
      },
      "source": [
        "%%capture\n",
        "!pip3 install torch==1.2.0+cu92 torchvision==0.4.0+cu92 -f https://download.pytorch.org/whl/torch_stable.html\n",
        "!pip3 install dgl"
      ],
      "execution_count": 2,
      "outputs": []
    },
    {
      "cell_type": "markdown",
      "metadata": {
        "id": "He-vseUkrjOV"
      },
      "source": [
        "\n",
        "Node Classification with DGL\n",
        "============================\n",
        "\n",
        "GNNs are powerful tools for many machine learning tasks on graphs. In\n",
        "this introductory tutorial, you will learn the basic workflow of using\n",
        "GNNs for node classification, i.e. predicting the category of a node in\n",
        "a graph.\n",
        "\n",
        "By completing this tutorial, you will be able to\n",
        "\n",
        "-  Load a DGL-provided dataset.\n",
        "-  Build a GNN model with DGL-provided neural network modules.\n",
        "-  Train and evaluate a GNN model for node classification on either CPU\n",
        "   or GPU.\n",
        "\n",
        "This tutorial assumes that you have experience in building neural\n",
        "networks with PyTorch.\n",
        "\n",
        "(Time estimate: 13 minutes)\n"
      ]
    },
    {
      "cell_type": "code",
      "metadata": {
        "colab": {
          "base_uri": "https://localhost:8080/",
          "height": 358
        },
        "id": "4pILZ93zrjOY",
        "outputId": "00e4e09a-dc3a-4622-f2ed-eeecc64d3eae"
      },
      "source": [
        "import dgl\n",
        "import torch\n",
        "import torch.nn as nn\n",
        "import torch.nn.functional as F"
      ],
      "execution_count": 1,
      "outputs": [
        {
          "output_type": "error",
          "ename": "ModuleNotFoundError",
          "evalue": "ignored",
          "traceback": [
            "\u001b[0;31m---------------------------------------------------------------------------\u001b[0m",
            "\u001b[0;31mModuleNotFoundError\u001b[0m                       Traceback (most recent call last)",
            "\u001b[0;32m<ipython-input-1-e1bf68c63929>\u001b[0m in \u001b[0;36m<module>\u001b[0;34m()\u001b[0m\n\u001b[0;32m----> 1\u001b[0;31m \u001b[0;32mimport\u001b[0m \u001b[0mdgl\u001b[0m\u001b[0;34m\u001b[0m\u001b[0;34m\u001b[0m\u001b[0m\n\u001b[0m\u001b[1;32m      2\u001b[0m \u001b[0;32mimport\u001b[0m \u001b[0mtorch\u001b[0m\u001b[0;34m\u001b[0m\u001b[0;34m\u001b[0m\u001b[0m\n\u001b[1;32m      3\u001b[0m \u001b[0;32mimport\u001b[0m \u001b[0mtorch\u001b[0m\u001b[0;34m.\u001b[0m\u001b[0mnn\u001b[0m \u001b[0;32mas\u001b[0m \u001b[0mnn\u001b[0m\u001b[0;34m\u001b[0m\u001b[0;34m\u001b[0m\u001b[0m\n\u001b[1;32m      4\u001b[0m \u001b[0;32mimport\u001b[0m \u001b[0mtorch\u001b[0m\u001b[0;34m.\u001b[0m\u001b[0mnn\u001b[0m\u001b[0;34m.\u001b[0m\u001b[0mfunctional\u001b[0m \u001b[0;32mas\u001b[0m \u001b[0mF\u001b[0m\u001b[0;34m\u001b[0m\u001b[0;34m\u001b[0m\u001b[0m\n",
            "\u001b[0;31mModuleNotFoundError\u001b[0m: No module named 'dgl'",
            "",
            "\u001b[0;31m---------------------------------------------------------------------------\u001b[0;32m\nNOTE: If your import is failing due to a missing package, you can\nmanually install dependencies using either !pip or !apt.\n\nTo view examples of installing some common dependencies, click the\n\"Open Examples\" button below.\n\u001b[0;31m---------------------------------------------------------------------------\u001b[0m\n"
          ],
          "errorDetails": {
            "actions": [
              {
                "action": "open_url",
                "actionText": "Open Examples",
                "url": "/notebooks/snippets/importing_libraries.ipynb"
              }
            ]
          }
        }
      ]
    },
    {
      "cell_type": "markdown",
      "metadata": {
        "id": "E0NU-GyWrjOa"
      },
      "source": [
        "Overview of Node Classification with GNN\n",
        "----------------------------------------\n",
        "\n",
        "One of the most popular and widely adopted tasks on graph data is node\n",
        "classification, where a model needs to predict the ground truth category\n",
        "of each node. Before graph neural networks, many proposed methods are\n",
        "using either connectivity alone (such as DeepWalk or node2vec), or simple\n",
        "combinations of connectivity and the node's own features.  GNNs, by\n",
        "contrast, offers an opportunity to obtain node representations by\n",
        "combining the connectivity and features of a *local neighborhood*.\n",
        "\n",
        "`Kipf et\n",
        "al., <https://arxiv.org/abs/1609.02907>`__ is an example that formulates\n",
        "the node classification problem as a semi-supervised node classification\n",
        "task. With the help of only a small portion of labeled nodes, a graph\n",
        "neural network (GNN) can accurately predict the node category of the\n",
        "others.\n",
        "\n",
        "This tutorial will show how to build such a GNN for semi-supervised node\n",
        "classification with only a small number of labels on the Cora\n",
        "dataset,\n",
        "a citation network with papers as nodes and citations as edges. The task\n",
        "is to predict the category of a given paper. Each paper node contains a\n",
        "word count vector as its features, normalized so that they sum up to one,\n",
        "as described in Section 5.2 of\n",
        "`the paper <https://arxiv.org/abs/1609.02907>`__.\n",
        "\n",
        "Loading Cora Dataset\n",
        "--------------------\n",
        "\n",
        "\n"
      ]
    },
    {
      "cell_type": "code",
      "metadata": {
        "id": "WtPocLDkrjOb"
      },
      "source": [
        "import dgl.data\n",
        "\n",
        "dataset = dgl.data.CoraGraphDataset()\n",
        "print('Number of categories:', dataset.num_classes)"
      ],
      "execution_count": null,
      "outputs": []
    },
    {
      "cell_type": "markdown",
      "metadata": {
        "id": "ciYd_Gb0rjOd"
      },
      "source": [
        "A DGL Dataset object may contain one or multiple graphs. The Cora\n",
        "dataset used in this tutorial only consists of one single graph.\n",
        "\n",
        "\n"
      ]
    },
    {
      "cell_type": "code",
      "metadata": {
        "id": "qURCQTdtrjOe"
      },
      "source": [
        "g = dataset[0]"
      ],
      "execution_count": null,
      "outputs": []
    },
    {
      "cell_type": "markdown",
      "metadata": {
        "id": "dSgsjUwnrjOg"
      },
      "source": [
        "A DGL graph can store node features and edge features in two\n",
        "dictionary-like attributes called ``ndata`` and ``edata``.\n",
        "In the DGL Cora dataset, the graph contains the following node features:\n",
        "\n",
        "- ``train_mask``: A boolean tensor indicating whether the node is in the\n",
        "  training set.\n",
        "\n",
        "- ``val_mask``: A boolean tensor indicating whether the node is in the\n",
        "  validation set.\n",
        "\n",
        "- ``test_mask``: A boolean tensor indicating whether the node is in the\n",
        "  test set.\n",
        "\n",
        "- ``label``: The ground truth node category.\n",
        "\n",
        "-  ``feat``: The node features.\n",
        "\n",
        "\n"
      ]
    },
    {
      "cell_type": "code",
      "metadata": {
        "id": "pKPp3vWorjOg"
      },
      "source": [
        "print('Node features')\n",
        "print(g.ndata)\n",
        "print('Edge features')\n",
        "print(g.edata)"
      ],
      "execution_count": null,
      "outputs": []
    },
    {
      "cell_type": "markdown",
      "metadata": {
        "id": "mCV5IDTerjOi"
      },
      "source": [
        "Defining a Graph Convolutional Network (GCN)\n",
        "--------------------------------------------\n",
        "\n",
        "This tutorial will build a two-layer `Graph Convolutional Network\n",
        "(GCN) <http://tkipf.github.io/graph-convolutional-networks/>`__. Each\n",
        "layer computes new node representations by aggregating neighbor\n",
        "information.\n",
        "\n",
        "To build a multi-layer GCN you can simply stack ``dgl.nn.GraphConv``\n",
        "modules, which inherit ``torch.nn.Module``.\n",
        "\n",
        "\n"
      ]
    },
    {
      "cell_type": "code",
      "metadata": {
        "id": "hYRnhgcxrjOj"
      },
      "source": [
        "from dgl.nn import GraphConv\n",
        "\n",
        "class GCN(nn.Module):\n",
        "    def __init__(self, in_feats, h_feats, num_classes):\n",
        "        super(GCN, self).__init__()\n",
        "        self.conv1 = GraphConv(in_feats, h_feats)\n",
        "        self.conv2 = GraphConv(h_feats, num_classes)\n",
        "    \n",
        "    def forward(self, g, in_feat):\n",
        "        h = self.conv1(g, in_feat)\n",
        "        h = F.relu(h)\n",
        "        h = self.conv2(g, h)\n",
        "        return h\n",
        "    \n",
        "# Create the model with given dimensions\n",
        "model = GCN(g.ndata['feat'].shape[1], 16, dataset.num_classes)"
      ],
      "execution_count": null,
      "outputs": []
    },
    {
      "cell_type": "markdown",
      "metadata": {
        "id": "ePL5-t7arjOk"
      },
      "source": [
        "DGL provides implementation of many popular neighbor aggregation\n",
        "modules. You can easily invoke them with one line of code.\n",
        "\n",
        "\n"
      ]
    },
    {
      "cell_type": "markdown",
      "metadata": {
        "id": "u82q4wvvrjOk"
      },
      "source": [
        "Training the GCN\n",
        "----------------\n",
        "\n",
        "Training this GCN is similar to training other PyTorch neural networks.\n",
        "\n",
        "\n"
      ]
    },
    {
      "cell_type": "code",
      "metadata": {
        "id": "gyiSAHyErjOk"
      },
      "source": [
        "def train(g, model):\n",
        "    optimizer = torch.optim.Adam(model.parameters(), lr=0.01)\n",
        "    best_val_acc = 0\n",
        "    best_test_acc = 0\n",
        "\n",
        "    features = g.ndata['feat']\n",
        "    labels = g.ndata['label']\n",
        "    train_mask = g.ndata['train_mask']\n",
        "    val_mask = g.ndata['val_mask']\n",
        "    test_mask = g.ndata['test_mask']\n",
        "    for e in range(100):\n",
        "        # Forward\n",
        "        logits = model(g, features)\n",
        "\n",
        "        # Compute prediction\n",
        "        pred = logits.argmax(1)\n",
        "\n",
        "        # Compute loss\n",
        "        # Note that you should only compute the losses of the nodes in the training set.\n",
        "        loss = F.cross_entropy(logits[train_mask], labels[train_mask])\n",
        "\n",
        "        # Compute accuracy on training/validation/test\n",
        "        train_acc = (pred[train_mask] == labels[train_mask]).float().mean()\n",
        "        val_acc = (pred[val_mask] == labels[val_mask]).float().mean()\n",
        "        test_acc = (pred[test_mask] == labels[test_mask]).float().mean()\n",
        "\n",
        "        # Save the best validation accuracy and the corresponding test accuracy.\n",
        "        if best_val_acc < val_acc:\n",
        "            best_val_acc = val_acc\n",
        "            best_test_acc = test_acc\n",
        "\n",
        "        # Backward\n",
        "        optimizer.zero_grad()\n",
        "        loss.backward()\n",
        "        optimizer.step()\n",
        "\n",
        "        if e % 5 == 0:\n",
        "            print('In epoch {}, loss: {:.3f}, val acc: {:.3f} (best {:.3f}), test acc: {:.3f} (best {:.3f})'.format(\n",
        "                e, loss, val_acc, best_val_acc, test_acc, best_test_acc))\n",
        "model = GCN(g.ndata['feat'].shape[1], 16, dataset.num_classes)\n",
        "train(g, model)"
      ],
      "execution_count": null,
      "outputs": []
    },
    {
      "cell_type": "markdown",
      "metadata": {
        "id": "DGUwJM1ArjOl"
      },
      "source": [
        "Training on GPU\n",
        "---------------\n",
        "\n",
        "Training on GPU requires to put both the model and the graph onto GPU\n",
        "with the ``to`` method, similar to what you will do in PyTorch.\n",
        "\n",
        ".. code:: python\n",
        "\n",
        "   g = g.to('cuda')\n",
        "   model = GCN(g.ndata['feat'].shape[1], 16, dataset.num_classes).to('cuda')\n",
        "   train(g, model)\n",
        "\n",
        "\n"
      ]
    },
    {
      "cell_type": "markdown",
      "metadata": {
        "id": "aOtcdyxdrjOl"
      },
      "source": [
        "What’s next?\n",
        "------------\n",
        "\n",
        "-  :doc:`How does DGL represent a graph <2_dglgraph>`?\n",
        "-  :doc:`Write your own GNN module <3_message_passing>`.\n",
        "-  :doc:`Link prediction (predicting existence of edges) on full\n",
        "   graph <4_link_predict>`.\n",
        "-  :doc:`Graph classification <5_graph_classification>`.\n",
        "-  :doc:`Make your own dataset <6_load_data>`.\n",
        "-  `The list of supported graph convolution\n",
        "   modules <apinn-pytorch>`.\n",
        "-  `The list of datasets provided by DGL <apidata>`.\n",
        "\n",
        "\n"
      ]
    },
    {
      "cell_type": "code",
      "metadata": {
        "id": "8dsZpD3UrjOn"
      },
      "source": [
        "# Thumbnail credits: Stanford CS224W Notes\n",
        "# sphinx_gallery_thumbnail_path = '_static/blitz_1_introduction.png'"
      ],
      "execution_count": null,
      "outputs": []
    }
  ]
}